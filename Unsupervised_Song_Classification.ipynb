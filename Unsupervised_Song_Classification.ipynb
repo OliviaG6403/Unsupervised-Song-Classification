{
  "nbformat": 4,
  "nbformat_minor": 0,
  "metadata": {
    "colab": {
      "provenance": [],
      "authorship_tag": "ABX9TyNDtTt9yoVTxYvvT4bVzfog",
      "include_colab_link": true
    },
    "kernelspec": {
      "name": "python3",
      "display_name": "Python 3"
    },
    "language_info": {
      "name": "python"
    }
  },
  "cells": [
    {
      "cell_type": "markdown",
      "metadata": {
        "id": "view-in-github",
        "colab_type": "text"
      },
      "source": [
        "<a href=\"https://colab.research.google.com/github/OliviaG6403/Unsupervised-Song-Classification/blob/main/Unsupervised_Song_Classification.ipynb\" target=\"_parent\"><img src=\"https://colab.research.google.com/assets/colab-badge.svg\" alt=\"Open In Colab\"/></a>"
      ]
    },
    {
      "cell_type": "code",
      "source": [
        "# Install necessary libraries (if not already installed)\n",
        "!pip install pandas numpy scikit-learn matplotlib"
      ],
      "metadata": {
        "id": "-LhuPSpclDmb"
      },
      "execution_count": null,
      "outputs": []
    },
    {
      "cell_type": "code",
      "execution_count": null,
      "metadata": {
        "id": "kq0YgAQpa1XB"
      },
      "outputs": [],
      "source": [
        "import pandas as pd\n",
        "import kagglehub\n",
        "import numpy as np\n",
        "import matplotlib.pyplot as plt\n",
        "from sklearn.feature_extraction.text import TfidfVectorizer\n",
        "from sklearn.cluster import KMeans\n",
        "\n",
        "# Load the dataset from Kaggle using Spotify's dataset\n",
        "path = \"/content/spotify_millsongdata.csv\"\n",
        "df = pd.read_csv(path)\n",
        "\n",
        "# Show the first few rows\n",
        "df = df[['artist', 'song', 'text']] # only use the relevant columns\n",
        "\n",
        "# Display the first 5 rows\n",
        "df.head()"
      ]
    },
    {
      "cell_type": "code",
      "source": [
        "# Convert lyrics into numerical form using TF-IDF\n",
        "vectorizer = TfidfVectorizer(stop_words='english', max_features=5000)\n",
        "X = vectorizer.fit_transform(df['text'])"
      ],
      "metadata": {
        "id": "m1iC09XJle4-"
      },
      "execution_count": 4,
      "outputs": []
    },
    {
      "cell_type": "code",
      "source": [
        "# Apply K-Means Clustering\n",
        "k = 5  # Number of clusters\n",
        "model = KMeans(n_clusters=k, random_state=42)\n",
        "df['Cluster'] = model.fit_predict(X)"
      ],
      "metadata": {
        "id": "4K-kK6ddnhpO"
      },
      "execution_count": 7,
      "outputs": []
    },
    {
      "cell_type": "code",
      "source": [
        "# Show some clustered songs\n",
        "for i in range(k):\n",
        "    print(f\"\\nCluster {i}:\")\n",
        "    print(df[df['Cluster'] == i][['artist', 'song']].sample(5))\n",
        "\n",
        "# Visualizing clusters (simple 2D reduction)\n",
        "from sklearn.decomposition import PCA\n",
        "\n",
        "pca = PCA(n_components=2)\n",
        "X_reduced = pca.fit_transform(X.toarray())\n",
        "\n",
        "plt.figure(figsize=(10,6))\n",
        "plt.scatter(X_reduced[:, 0], X_reduced[:, 1], c=df['Cluster'], cmap='viridis', alpha=0.6)\n",
        "plt.colorbar(label=\"Cluster\")\n",
        "plt.xlabel(\"PCA Component 1\")\n",
        "plt.ylabel(\"PCA Component 2\")\n",
        "plt.title(\"Clustering Songs by Lyrics\")\n",
        "plt.show()"
      ],
      "metadata": {
        "id": "WdbM16jFnlrh"
      },
      "execution_count": null,
      "outputs": []
    }
  ]
}